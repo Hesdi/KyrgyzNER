{
  "cells": [
    {
      "cell_type": "markdown",
      "metadata": {
        "id": "view-in-github",
        "colab_type": "text"
      },
      "source": [
        "<a href=\"https://colab.research.google.com/github/Hesdi/KyrgyzNER/blob/main/dt_iii_bert_baseline.ipynb\" target=\"_parent\"><img src=\"https://colab.research.google.com/assets/colab-badge.svg\" alt=\"Open In Colab\"/></a>"
      ]
    },
    {
      "cell_type": "markdown",
      "metadata": {
        "id": "KrNSL_Cfn-MG"
      },
      "source": [
        "# DATATHON-III: научи искусственный интеллект понимать кыргызский язык\n",
        "### Пример решения на основе BERT\n",
        "\n",
        "Сначала установим необходимые библиотеки, где многое сделано за нас"
      ]
    },
    {
      "cell_type": "code",
      "execution_count": null,
      "metadata": {
        "id": "dRPBTf75KW7k",
        "colab": {
          "base_uri": "https://localhost:8080/"
        },
        "outputId": "50526399-7c6e-48c2-a188-3012da7747f4"
      },
      "outputs": [
        {
          "output_type": "stream",
          "name": "stdout",
          "text": [
            "\u001b[2K     \u001b[90m━━━━━━━━━━━━━━━━━━━━━━━━━━━━━━━━━━━━━━━\u001b[0m \u001b[32m468.3/468.3 kB\u001b[0m \u001b[31m7.2 MB/s\u001b[0m eta \u001b[36m0:00:00\u001b[0m\n",
            "\u001b[2K     \u001b[90m━━━━━━━━━━━━━━━━━━━━━━━━━━━━━━━━━━━━━━━━\u001b[0m \u001b[32m7.4/7.4 MB\u001b[0m \u001b[31m97.1 MB/s\u001b[0m eta \u001b[36m0:00:00\u001b[0m\n",
            "\u001b[2K     \u001b[90m━━━━━━━━━━━━━━━━━━━━━━━━━━━━━━━━━━━━━━━━\u001b[0m \u001b[32m55.8/55.8 kB\u001b[0m \u001b[31m6.8 MB/s\u001b[0m eta \u001b[36m0:00:00\u001b[0m\n",
            "\u001b[2K     \u001b[90m━━━━━━━━━━━━━━━━━━━━━━━━━━━━━━━━━━━━━━\u001b[0m \u001b[32m222.4/222.4 kB\u001b[0m \u001b[31m20.4 MB/s\u001b[0m eta \u001b[36m0:00:00\u001b[0m\n",
            "\u001b[2K     \u001b[90m━━━━━━━━━━━━━━━━━━━━━━━━━━━━━━━━━━━━━━━━\u001b[0m \u001b[32m26.5/26.5 MB\u001b[0m \u001b[31m33.8 MB/s\u001b[0m eta \u001b[36m0:00:00\u001b[0m\n",
            "\u001b[2K     \u001b[90m━━━━━━━━━━━━━━━━━━━━━━━━━━━━━━━━━━━━━━━━\u001b[0m \u001b[32m33.7/33.7 MB\u001b[0m \u001b[31m16.9 MB/s\u001b[0m eta \u001b[36m0:00:00\u001b[0m\n",
            "\u001b[2K     \u001b[90m━━━━━━━━━━━━━━━━━━━━━━━━━━━━━━━━━━━━━━━━\u001b[0m \u001b[32m78.5/78.5 kB\u001b[0m \u001b[31m8.7 MB/s\u001b[0m eta \u001b[36m0:00:00\u001b[0m\n",
            "\u001b[2K     \u001b[90m━━━━━━━━━━━━━━━━━━━━━━━━━━━━━━━━━━━━━━━━\u001b[0m \u001b[32m57.4/57.4 kB\u001b[0m \u001b[31m6.0 MB/s\u001b[0m eta \u001b[36m0:00:00\u001b[0m\n",
            "\u001b[2K     \u001b[90m━━━━━━━━━━━━━━━━━━━━━━━━━━━━━━━━━━━━━━\u001b[0m \u001b[32m268.8/268.8 kB\u001b[0m \u001b[31m25.5 MB/s\u001b[0m eta \u001b[36m0:00:00\u001b[0m\n",
            "\u001b[2K     \u001b[90m━━━━━━━━━━━━━━━━━━━━━━━━━━━━━━━━━━━━━━━━\u001b[0m \u001b[32m7.8/7.8 MB\u001b[0m \u001b[31m75.6 MB/s\u001b[0m eta \u001b[36m0:00:00\u001b[0m\n",
            "\u001b[2K     \u001b[90m━━━━━━━━━━━━━━━━━━━━━━━━━━━━━━━━━━━━━━━━\u001b[0m \u001b[32m1.3/1.3 MB\u001b[0m \u001b[31m65.5 MB/s\u001b[0m eta \u001b[36m0:00:00\u001b[0m\n",
            "\u001b[2K     \u001b[90m━━━━━━━━━━━━━━━━━━━━━━━━━━━━━━━━━━━━━━━━\u001b[0m \u001b[32m64.3/64.3 kB\u001b[0m \u001b[31m8.1 MB/s\u001b[0m eta \u001b[36m0:00:00\u001b[0m\n",
            "\u001b[2K     \u001b[90m━━━━━━━━━━━━━━━━━━━━━━━━━━━━━━━━━━━━━━━━\u001b[0m \u001b[32m58.3/58.3 kB\u001b[0m \u001b[31m7.1 MB/s\u001b[0m eta \u001b[36m0:00:00\u001b[0m\n",
            "\u001b[?25h"
          ]
        }
      ],
      "source": [
        "! pip install -q deeppavlov==1.2.0 transformers==4.31.0 pytorch-crf==0.7.2"
      ]
    },
    {
      "cell_type": "markdown",
      "metadata": {
        "id": "gGcuTvXAn-MO"
      },
      "source": [
        "Служебные функции:\n",
        "- `get_sentences`: чтение из файла заданного (на хакатоне) формата\n",
        "- `kyrgyz_ner_2_deeppavlov_ner`: преобразование в формат, с которым работает deeppavlov\n",
        "- `write_predictions`: запись предсказаний в заданный файл в нужном формате, который примет система"
      ]
    },
    {
      "cell_type": "code",
      "execution_count": null,
      "metadata": {
        "id": "3g9GpfsKK6lr"
      },
      "outputs": [],
      "source": [
        "from itertools import groupby\n",
        "from collections import namedtuple\n",
        "from typing import List\n",
        "\n",
        "# неизменяемый класс; в Sentence можно удобно \"оборачивать\" данные\n",
        "Sentence = namedtuple(\"Sentence\", \"id tokens tags\")\n",
        "\n",
        "\n",
        "def get_sentences(filename: str) -> List[Sentence]:\n",
        "    \"\"\"\n",
        "      filename - путь до файлов с данными\n",
        "      Возвращает список предложений в структуре Sentence(id, tokens, tags).\n",
        "    \"\"\"\n",
        "    with open(filename, \"r\", encoding=\"utf-8\") as inp:\n",
        "        lines = inp.readlines()\n",
        "\n",
        "    sentences = [list(sentence) for k, sentence in groupby(lines, key=lambda x: x.strip() != \"\") if k]\n",
        "    sentences = [Sentence(s[0].strip(),\n",
        "                          [t.split(\"\\t\")[0].strip() for t in s[1:]],\n",
        "                          [t.split(\"\\t\")[-1].strip() for t in s[1:]]) for s in sentences]\n",
        "\n",
        "    return sentences\n",
        "\n",
        "\n",
        "def kyrgyz_ner_2_deeppavlov_ner(source: str, destination: str) -> None:\n",
        "    \"\"\"\n",
        "      source - путь до train-файла, который нужно сконвертировать в формат,\n",
        "      пригодный для deeppavlov NER, чтобы можно было обучаться\n",
        "\n",
        "      destination - путь, куда нужно сохранить сконвертированный файл\n",
        "\n",
        "      Преобразовывает исходные данные в формат, который понимает система\n",
        "      deeppavlov NER.\n",
        "    \"\"\"\n",
        "    sentences = get_sentences(source)\n",
        "\n",
        "    with open(destination, \"w\", encoding=\"utf-8\") as out:\n",
        "        for s in sentences:\n",
        "            for tok, tag in zip(s.tokens, s.tags):\n",
        "                print(tok, tag, file=out)\n",
        "            print(\"\", file=out)\n",
        "\n",
        "def write_predictions(sentences: List[Sentence], predictions, destination: str):\n",
        "    \"\"\"\n",
        "      sentences - список предложений, полученный из `get_sentences`\n",
        "      predictions - предсказания, полученные из обученной NER модели\n",
        "      destination - путь, по которому будет записан файл с предсказаниями\n",
        "    \"\"\"\n",
        "    print(type(predictions), predictions)\n",
        "    with open(destination, \"w\", encoding=\"utf-8\") as out:\n",
        "        for sent, pred in zip(sentences, predictions):\n",
        "            print(sent.id, file=out)\n",
        "            for tok, p in zip(sent.tokens, pred):\n",
        "                print(f\"{tok}\\t-\\t-\\t{p}\", file=out)\n",
        "            print(\"\", file=out)\n"
      ]
    },
    {
      "cell_type": "code",
      "execution_count": null,
      "metadata": {
        "id": "SJg8bO7vNUKu"
      },
      "outputs": [],
      "source": [
        "import os\n",
        "\n",
        "# Создаем директорию, куда положим данные в исправленном формате\n",
        "data_dir = \"train_data\"\n",
        "os.makedirs(data_dir, exist_ok=True)\n",
        "\n",
        "# Здесь следует указать пути до файлов\n",
        "kyrgyz_ner_2_deeppavlov_ner(\"gold.conll2003-formatted.30-texts.txt\", f\"{data_dir}/train.txt\")\n",
        "kyrgyz_ner_2_deeppavlov_ner(\"gold.conll2003-formatted.30-texts.txt\", f\"{data_dir}/valid.txt\")\n",
        "kyrgyz_ner_2_deeppavlov_ner(\"gold.conll2003-formatted.30-texts.txt\", f\"{data_dir}/test.txt\")"
      ]
    },
    {
      "cell_type": "markdown",
      "source": [
        "Подготовив всё необходимое, возьмём готовую модель (из библиотеки DeepPavlov), которую можно дообучать.\n",
        "\n",
        "[Статья с описанием](http://www.ijmlc.org/vol9/758-ML0025.pdf) подхода для LSTM, а для BERT сделано по аналогии.\n",
        "\n",
        "Вот [ссылка на конфигурацию](\n",
        "https://github.com/deeppavlov/DeepPavlov/blob/master/deeppavlov/configs/ner/ner_ontonotes_bert_mult.json), может, можно поменять что-то ещё?"
      ],
      "metadata": {
        "id": "4rVltf2d3lvt"
      }
    },
    {
      "cell_type": "code",
      "execution_count": null,
      "metadata": {
        "id": "aiZrvimFNVEP",
        "colab": {
          "base_uri": "https://localhost:8080/"
        },
        "outputId": "203f6979-ba14-4713-c5d1-d70834b2917e"
      },
      "outputs": [
        {
          "output_type": "execute_result",
          "data": {
            "text/plain": [
              "{'epochs': 5,\n",
              " 'batch_size': 16,\n",
              " 'metrics': [{'name': 'ner_f1', 'inputs': ['y', 'y_pred']},\n",
              "  {'name': 'ner_token_f1', 'inputs': ['y', 'y_pred']}],\n",
              " 'validation_patience': 100,\n",
              " 'val_every_n_batches': 20,\n",
              " 'log_every_n_batches': 20,\n",
              " 'show_examples': False,\n",
              " 'pytest_max_batches': 2,\n",
              " 'pytest_batch_size': 8,\n",
              " 'evaluation_targets': ['valid', 'test'],\n",
              " 'class_name': 'torch_trainer'}"
            ]
          },
          "metadata": {},
          "execution_count": 4
        }
      ],
      "source": [
        "from deeppavlov.core.commands.utils import parse_config\n",
        "\n",
        "# Загружаем конфигурацию и заменяем путь до обучающих данных на свой\n",
        "model_config = parse_config(\"ner_ontonotes_bert_mult\")\n",
        "model_config[\"dataset_reader\"][\"data_path\"] = data_dir\n",
        "model_config[\"train\"][\"epochs\"] = 5\n",
        "model_config[\"train\"][\"batch_size\"] = 16\n",
        "\n",
        "model_config[\"train\"]"
      ]
    },
    {
      "cell_type": "markdown",
      "source": [
        "### Обучение модели"
      ],
      "metadata": {
        "id": "IGpAsDkR5HBL"
      }
    },
    {
      "cell_type": "code",
      "execution_count": null,
      "metadata": {
        "id": "4R1hX4CAoQvI",
        "colab": {
          "base_uri": "https://localhost:8080/",
          "height": 1000,
          "referenced_widgets": [
            "a60efb6f6674441cbfab0cfbd98ceb39",
            "80296728b9c34b9fa1421753870a7474",
            "09a4d90d299b422fa1c9aa2f1553ee65",
            "c79f8a1d77d94afaa267cecf19f4b831",
            "bef9b1a759594c53b5f2fc466787b72f",
            "13aa5a527c0347fdbfb09f599fd56c1f",
            "06f3b69f5cb74c638e6f26d20607c947",
            "f2f2b308048a4d05ba9c250a3463800e",
            "21b6ba910a3647aa922fe91ddf405188",
            "a704b8accece40ae8ae2e80557b481ac",
            "e7f47f936a5641d9bd1f33f4aecd5a69",
            "5540c96d1a1b463ea31c43c16f87f4c1",
            "31ef6e5836c24eecaea6de09f7471528",
            "6e46dcd2458445faa46fbd22635bbbd8",
            "411513e07a634f788952bfb3f75f1e09",
            "327b902df6b24da686c5b57460c7aa24",
            "889ed954efdc4967a3364ac233dcf413",
            "94587f6d403e4624b07979247d873db7",
            "20878d977ef64fae9f5535220b917e72",
            "f13f6138fbd24065ad8a3e7d7bf92b42",
            "92a6585e07e44172a8299a905aafacbe",
            "a24e897294bf4c2e8bb3fc7102088b64",
            "d80e207feeb943a3952b50c68b51008e",
            "ca7c9ea7c2544c4798bcd246ab285b58",
            "185e94e35da94afaa71edebe8cc4d6a5",
            "563ba710696744dd982eb68314bb697d",
            "fa1fe824ccb14af28feca2ea547477fb",
            "3acf6675fdd041e4be0d0ffb7052b85f",
            "7f65e5b89ab94caca0f244694a5af5e8",
            "593ce6c20d4b44f49c000b321cb1542d",
            "1c21a1aed09543dcb60c9613e1889005",
            "31fd6d02b6844d99af73b47f60ab12db",
            "3741a8fe72d545e1b426a6b24342560d",
            "d05cc9f7729e422db56d61f4c55973f7",
            "3291e2edf1474afa93fdbde916abf1c1",
            "fe72b8d1c59943a4bc849105fa6922a9",
            "a7d5a4ddaf7a460582da6d1bfb34b5c3",
            "894263c57c394c2aa92c414337b5895a",
            "132b17158d844a27a39e9f9b4d0753cd",
            "a65bd76212d242d38f186d56c08a699d",
            "8c171bac6919409a805add8923314db2",
            "929b4a93703f4c3eb173ecd1d35b129c",
            "01581abf78384b36bbf5b8e61e7be492",
            "4b70eb1d673445df9e3925b0241577de",
            "08b7426e9b744ef288457b9c19b854fd",
            "37d14b12743641cca83c76333ada497c",
            "70c8eca52dcc4d8a9be4c3f0594fbebc",
            "e8f232fb566846b08e87a42302c0f389",
            "f6541004844e4875a50f05c79b9fea05",
            "0e3f11e3e90f4a499702de7f82e60de1",
            "b9d54f9094e24795bfdc51b9b0ff9282",
            "5b67bdf51dbe4e0eacea02ff8f7fd7a2",
            "8169aa0aa2944bbb83c8a13e93859565",
            "2d52d4ecc66440d3bd91090a21f49baf",
            "f498113d49874b70ac7874437f244f57"
          ]
        },
        "outputId": "19ab35b3-4350-4867-bcf6-07d5055790fb"
      },
      "outputs": [
        {
          "output_type": "stream",
          "name": "stderr",
          "text": [
            "2023-07-26 09:54:48.511 WARNING in 'deeppavlov.core.trainers.fit_trainer'['fit_trainer'] at line 66: TorchTrainer got additional init parameters ['pytest_max_batches', 'pytest_batch_size'] that will be ignored:\n",
            "WARNING:deeppavlov.core.trainers.fit_trainer:TorchTrainer got additional init parameters ['pytest_max_batches', 'pytest_batch_size'] that will be ignored:\n"
          ]
        },
        {
          "output_type": "display_data",
          "data": {
            "text/plain": [
              "Downloading (…)okenizer_config.json:   0%|          | 0.00/29.0 [00:00<?, ?B/s]"
            ],
            "application/vnd.jupyter.widget-view+json": {
              "version_major": 2,
              "version_minor": 0,
              "model_id": "a60efb6f6674441cbfab0cfbd98ceb39"
            }
          },
          "metadata": {}
        },
        {
          "output_type": "display_data",
          "data": {
            "text/plain": [
              "Downloading (…)lve/main/config.json:   0%|          | 0.00/625 [00:00<?, ?B/s]"
            ],
            "application/vnd.jupyter.widget-view+json": {
              "version_major": 2,
              "version_minor": 0,
              "model_id": "5540c96d1a1b463ea31c43c16f87f4c1"
            }
          },
          "metadata": {}
        },
        {
          "output_type": "display_data",
          "data": {
            "text/plain": [
              "Downloading (…)solve/main/vocab.txt:   0%|          | 0.00/996k [00:00<?, ?B/s]"
            ],
            "application/vnd.jupyter.widget-view+json": {
              "version_major": 2,
              "version_minor": 0,
              "model_id": "d80e207feeb943a3952b50c68b51008e"
            }
          },
          "metadata": {}
        },
        {
          "output_type": "display_data",
          "data": {
            "text/plain": [
              "Downloading (…)/main/tokenizer.json:   0%|          | 0.00/1.96M [00:00<?, ?B/s]"
            ],
            "application/vnd.jupyter.widget-view+json": {
              "version_major": 2,
              "version_minor": 0,
              "model_id": "d05cc9f7729e422db56d61f4c55973f7"
            }
          },
          "metadata": {}
        },
        {
          "output_type": "stream",
          "name": "stderr",
          "text": [
            "2023-07-26 09:55:04.54 INFO in 'deeppavlov.core.data.simple_vocab'['simple_vocab'] at line 104: [saving vocabulary to /root/.deeppavlov/models/ner_ontonotes_torch_bert_mult_crf/tag.dict]\n",
            "INFO:deeppavlov.core.data.simple_vocab:[saving vocabulary to /root/.deeppavlov/models/ner_ontonotes_torch_bert_mult_crf/tag.dict]\n"
          ]
        },
        {
          "output_type": "display_data",
          "data": {
            "text/plain": [
              "Downloading model.safetensors:   0%|          | 0.00/714M [00:00<?, ?B/s]"
            ],
            "application/vnd.jupyter.widget-view+json": {
              "version_major": 2,
              "version_minor": 0,
              "model_id": "08b7426e9b744ef288457b9c19b854fd"
            }
          },
          "metadata": {}
        },
        {
          "output_type": "stream",
          "name": "stderr",
          "text": [
            "Some weights of BertForTokenClassification were not initialized from the model checkpoint at bert-base-multilingual-cased and are newly initialized: ['classifier.bias', 'classifier.weight']\n",
            "You should probably TRAIN this model on a down-stream task to be able to use it for predictions and inference.\n",
            "2023-07-26 09:55:17.661 WARNING in 'deeppavlov.models.torch_bert.torch_transformers_sequence_tagger'['torch_transformers_sequence_tagger'] at line 310: Init from scratch. Load path /root/.deeppavlov/models/ner_ontonotes_torch_bert_mult_crf/model_crf.pth.tar does not exist.\n",
            "WARNING:deeppavlov.models.torch_bert.torch_transformers_sequence_tagger:Init from scratch. Load path /root/.deeppavlov/models/ner_ontonotes_torch_bert_mult_crf/model_crf.pth.tar does not exist.\n",
            "0it [00:00, ?it/s]/usr/local/lib/python3.10/dist-packages/torchcrf/__init__.py:305: UserWarning: where received a uint8 condition tensor. This behavior is deprecated and will be removed in a future version of PyTorch. Use a boolean condition instead. (Triggered internally at ../aten/src/ATen/native/TensorCompare.cpp:493.)\n",
            "  score = torch.where(mask[i].unsqueeze(1), next_score, score)\n",
            "14it [00:04,  3.07it/s]\n",
            "2023-07-26 09:55:22.297 INFO in 'deeppavlov.core.trainers.nn_trainer'['nn_trainer'] at line 198: Initial best ner_f1 of 0.7836\n",
            "INFO:deeppavlov.core.trainers.nn_trainer:Initial best ner_f1 of 0.7836\n"
          ]
        },
        {
          "output_type": "stream",
          "name": "stdout",
          "text": [
            "{\"valid\": {\"eval_examples_count\": 209, \"metrics\": {\"ner_f1\": 0.7836, \"ner_token_f1\": 4.733}, \"time_spent\": \"0:00:05\", \"epochs_done\": 0, \"batches_seen\": 0, \"train_examples_seen\": 0, \"impatience\": 0, \"patience_limit\": 100}}\n"
          ]
        },
        {
          "output_type": "stream",
          "name": "stderr",
          "text": [
            "INFO:train_report:{\"valid\": {\"eval_examples_count\": 209, \"metrics\": {\"ner_f1\": 0.7836, \"ner_token_f1\": 4.733}, \"time_spent\": \"0:00:05\", \"epochs_done\": 0, \"batches_seen\": 0, \"train_examples_seen\": 0, \"impatience\": 0, \"patience_limit\": 100}}\n",
            "14it [00:03,  3.61it/s]\n",
            "5it [00:01,  3.89it/s]\n",
            "1it [00:00, 11.65it/s]"
          ]
        },
        {
          "output_type": "stream",
          "name": "stdout",
          "text": [
            "{\"train\": {\"eval_examples_count\": 16, \"metrics\": {\"ner_f1\": 45.1613, \"ner_token_f1\": 59.7938}, \"time_spent\": \"0:00:11\", \"epochs_done\": 1, \"batches_seen\": 20, \"train_examples_seen\": 305, \"loss\": 0.9659969881176949}}\n"
          ]
        },
        {
          "output_type": "stream",
          "name": "stderr",
          "text": [
            "\n",
            "INFO:train_report:{\"train\": {\"eval_examples_count\": 16, \"metrics\": {\"ner_f1\": 45.1613, \"ner_token_f1\": 59.7938}, \"time_spent\": \"0:00:11\", \"epochs_done\": 1, \"batches_seen\": 20, \"train_examples_seen\": 305, \"loss\": 0.9659969881176949}}\n",
            "\n",
            "0it [00:00, ?it/s]\u001b[A\n",
            "1it [00:00,  3.38it/s]\u001b[A\n",
            "2it [00:00,  5.21it/s]\u001b[A\n",
            "3it [00:00,  6.63it/s]\u001b[A\n",
            "5it [00:00,  9.68it/s]\u001b[A\n",
            "7it [00:00, 11.12it/s]\u001b[A\n",
            "9it [00:00, 11.81it/s]\u001b[A\n",
            "11it [00:01, 12.32it/s]\u001b[A\n",
            "14it [00:01, 11.23it/s]\n",
            "2023-07-26 09:55:29.218 INFO in 'deeppavlov.core.trainers.nn_trainer'['nn_trainer'] at line 206: Improved best ner_f1 from 0.7836 to 30.2083\n",
            "INFO:deeppavlov.core.trainers.nn_trainer:Improved best ner_f1 from 0.7836 to 30.2083\n",
            "2023-07-26 09:55:29.221 INFO in 'deeppavlov.core.trainers.nn_trainer'['nn_trainer'] at line 208: Saving model\n",
            "INFO:deeppavlov.core.trainers.nn_trainer:Saving model\n",
            "2023-07-26 09:55:29.224 INFO in 'deeppavlov.core.models.torch_model'['torch_model'] at line 207: Saving model to /root/.deeppavlov/models/ner_ontonotes_torch_bert_mult_crf/model.pth.tar.\n",
            "INFO:deeppavlov.core.models.torch_model:Saving model to /root/.deeppavlov/models/ner_ontonotes_torch_bert_mult_crf/model.pth.tar.\n"
          ]
        },
        {
          "output_type": "stream",
          "name": "stdout",
          "text": [
            "{\"valid\": {\"eval_examples_count\": 209, \"metrics\": {\"ner_f1\": 30.2083, \"ner_token_f1\": 64.7699}, \"time_spent\": \"0:00:12\", \"epochs_done\": 1, \"batches_seen\": 20, \"train_examples_seen\": 305, \"impatience\": 0, \"patience_limit\": 100}}\n"
          ]
        },
        {
          "output_type": "stream",
          "name": "stderr",
          "text": [
            "INFO:train_report:{\"valid\": {\"eval_examples_count\": 209, \"metrics\": {\"ner_f1\": 30.2083, \"ner_token_f1\": 64.7699}, \"time_spent\": \"0:00:12\", \"epochs_done\": 1, \"batches_seen\": 20, \"train_examples_seen\": 305, \"impatience\": 0, \"patience_limit\": 100}}\n",
            "14it [00:22,  1.59s/it]\n",
            "11it [00:03,  3.49it/s]\n",
            "1it [00:00, 13.90it/s]"
          ]
        },
        {
          "output_type": "stream",
          "name": "stdout",
          "text": [
            "{\"train\": {\"eval_examples_count\": 16, \"metrics\": {\"ner_f1\": 44.4444, \"ner_token_f1\": 74.4186}, \"time_spent\": \"0:00:35\", \"epochs_done\": 2, \"batches_seen\": 40, \"train_examples_seen\": 610, \"loss\": 0.3777087040245533}}\n"
          ]
        },
        {
          "output_type": "stream",
          "name": "stderr",
          "text": [
            "\n",
            "INFO:train_report:{\"train\": {\"eval_examples_count\": 16, \"metrics\": {\"ner_f1\": 44.4444, \"ner_token_f1\": 74.4186}, \"time_spent\": \"0:00:35\", \"epochs_done\": 2, \"batches_seen\": 40, \"train_examples_seen\": 610, \"loss\": 0.3777087040245533}}\n",
            "\n",
            "0it [00:00, ?it/s]\u001b[A\n",
            "1it [00:00,  3.76it/s]\u001b[A\n",
            "2it [00:00,  5.83it/s]\u001b[A\n",
            "4it [00:00,  8.83it/s]\u001b[A\n",
            "6it [00:00, 11.10it/s]\u001b[A\n",
            "8it [00:00, 11.14it/s]\u001b[A\n",
            "10it [00:01, 11.36it/s]\u001b[A\n",
            "14it [00:01, 11.07it/s]\n",
            "2023-07-26 09:55:53.359 INFO in 'deeppavlov.core.trainers.nn_trainer'['nn_trainer'] at line 206: Improved best ner_f1 from 30.2083 to 54.7893\n",
            "INFO:deeppavlov.core.trainers.nn_trainer:Improved best ner_f1 from 30.2083 to 54.7893\n",
            "2023-07-26 09:55:53.363 INFO in 'deeppavlov.core.trainers.nn_trainer'['nn_trainer'] at line 208: Saving model\n",
            "INFO:deeppavlov.core.trainers.nn_trainer:Saving model\n",
            "2023-07-26 09:55:53.366 INFO in 'deeppavlov.core.models.torch_model'['torch_model'] at line 207: Saving model to /root/.deeppavlov/models/ner_ontonotes_torch_bert_mult_crf/model.pth.tar.\n",
            "INFO:deeppavlov.core.models.torch_model:Saving model to /root/.deeppavlov/models/ner_ontonotes_torch_bert_mult_crf/model.pth.tar.\n"
          ]
        },
        {
          "output_type": "stream",
          "name": "stdout",
          "text": [
            "{\"valid\": {\"eval_examples_count\": 209, \"metrics\": {\"ner_f1\": 54.7893, \"ner_token_f1\": 66.5185}, \"time_spent\": \"0:00:36\", \"epochs_done\": 2, \"batches_seen\": 40, \"train_examples_seen\": 610, \"impatience\": 0, \"patience_limit\": 100}}\n"
          ]
        },
        {
          "output_type": "stream",
          "name": "stderr",
          "text": [
            "INFO:train_report:{\"valid\": {\"eval_examples_count\": 209, \"metrics\": {\"ner_f1\": 54.7893, \"ner_token_f1\": 66.5185}, \"time_spent\": \"0:00:36\", \"epochs_done\": 2, \"batches_seen\": 40, \"train_examples_seen\": 610, \"impatience\": 0, \"patience_limit\": 100}}\n",
            "14it [00:15,  1.11s/it]\n",
            "14it [00:03,  3.63it/s]\n",
            "3it [00:00,  3.70it/s]\n",
            "1it [00:00, 11.88it/s]"
          ]
        },
        {
          "output_type": "stream",
          "name": "stdout",
          "text": [
            "{\"train\": {\"eval_examples_count\": 16, \"metrics\": {\"ner_f1\": 79.0698, \"ner_token_f1\": 75.5906}, \"time_spent\": \"0:00:52\", \"epochs_done\": 4, \"batches_seen\": 60, \"train_examples_seen\": 900, \"loss\": 0.21979666273109616}}\n"
          ]
        },
        {
          "output_type": "stream",
          "name": "stderr",
          "text": [
            "\n",
            "INFO:train_report:{\"train\": {\"eval_examples_count\": 16, \"metrics\": {\"ner_f1\": 79.0698, \"ner_token_f1\": 75.5906}, \"time_spent\": \"0:00:52\", \"epochs_done\": 4, \"batches_seen\": 60, \"train_examples_seen\": 900, \"loss\": 0.21979666273109616}}\n",
            "\n",
            "0it [00:00, ?it/s]\u001b[A\n",
            "1it [00:00,  3.46it/s]\u001b[A\n",
            "2it [00:00,  5.40it/s]\u001b[A\n",
            "3it [00:00,  6.57it/s]\u001b[A\n",
            "5it [00:00,  9.14it/s]\u001b[A\n",
            "7it [00:00, 10.14it/s]\u001b[A\n",
            "9it [00:01, 10.57it/s]\u001b[A\n",
            "11it [00:01, 10.82it/s]\u001b[A\n",
            "14it [00:01, 10.13it/s]\n",
            "2023-07-26 09:56:10.408 INFO in 'deeppavlov.core.trainers.nn_trainer'['nn_trainer'] at line 206: Improved best ner_f1 from 54.7893 to 72.7273\n",
            "INFO:deeppavlov.core.trainers.nn_trainer:Improved best ner_f1 from 54.7893 to 72.7273\n",
            "2023-07-26 09:56:10.412 INFO in 'deeppavlov.core.trainers.nn_trainer'['nn_trainer'] at line 208: Saving model\n",
            "INFO:deeppavlov.core.trainers.nn_trainer:Saving model\n",
            "2023-07-26 09:56:10.416 INFO in 'deeppavlov.core.models.torch_model'['torch_model'] at line 207: Saving model to /root/.deeppavlov/models/ner_ontonotes_torch_bert_mult_crf/model.pth.tar.\n",
            "INFO:deeppavlov.core.models.torch_model:Saving model to /root/.deeppavlov/models/ner_ontonotes_torch_bert_mult_crf/model.pth.tar.\n"
          ]
        },
        {
          "output_type": "stream",
          "name": "stdout",
          "text": [
            "{\"valid\": {\"eval_examples_count\": 209, \"metrics\": {\"ner_f1\": 72.7273, \"ner_token_f1\": 80.3725}, \"time_spent\": \"0:00:53\", \"epochs_done\": 4, \"batches_seen\": 60, \"train_examples_seen\": 900, \"impatience\": 0, \"patience_limit\": 100}}\n"
          ]
        },
        {
          "output_type": "stream",
          "name": "stderr",
          "text": [
            "INFO:train_report:{\"valid\": {\"eval_examples_count\": 209, \"metrics\": {\"ner_f1\": 72.7273, \"ner_token_f1\": 80.3725}, \"time_spent\": \"0:00:53\", \"epochs_done\": 4, \"batches_seen\": 60, \"train_examples_seen\": 900, \"impatience\": 0, \"patience_limit\": 100}}\n",
            "14it [00:19,  1.37s/it]\n",
            "Some weights of BertForTokenClassification were not initialized from the model checkpoint at bert-base-multilingual-cased and are newly initialized: ['classifier.bias', 'classifier.weight']\n",
            "You should probably TRAIN this model on a down-stream task to be able to use it for predictions and inference.\n",
            "14it [00:01, 11.34it/s]\n"
          ]
        },
        {
          "output_type": "stream",
          "name": "stdout",
          "text": [
            "{\"valid\": {\"eval_examples_count\": 209, \"metrics\": {\"ner_f1\": 72.7273, \"ner_token_f1\": 80.3725}, \"time_spent\": \"0:00:02\"}}\n"
          ]
        },
        {
          "output_type": "stream",
          "name": "stderr",
          "text": [
            "INFO:train_report:{\"valid\": {\"eval_examples_count\": 209, \"metrics\": {\"ner_f1\": 72.7273, \"ner_token_f1\": 80.3725}, \"time_spent\": \"0:00:02\"}}\n",
            "14it [00:01, 11.83it/s]\n"
          ]
        },
        {
          "output_type": "stream",
          "name": "stdout",
          "text": [
            "{\"test\": {\"eval_examples_count\": 209, \"metrics\": {\"ner_f1\": 72.7273, \"ner_token_f1\": 80.3725}, \"time_spent\": \"0:00:02\"}}\n"
          ]
        },
        {
          "output_type": "stream",
          "name": "stderr",
          "text": [
            "INFO:train_report:{\"test\": {\"eval_examples_count\": 209, \"metrics\": {\"ner_f1\": 72.7273, \"ner_token_f1\": 80.3725}, \"time_spent\": \"0:00:02\"}}\n",
            "Some weights of BertForTokenClassification were not initialized from the model checkpoint at bert-base-multilingual-cased and are newly initialized: ['classifier.bias', 'classifier.weight']\n",
            "You should probably TRAIN this model on a down-stream task to be able to use it for predictions and inference.\n"
          ]
        }
      ],
      "source": [
        "from deeppavlov import train_model\n",
        "\n",
        "ner_model = train_model(model_config)"
      ]
    },
    {
      "cell_type": "markdown",
      "source": [
        "### Предсказания для тестовой выборки"
      ],
      "metadata": {
        "id": "es6s2LgfHI8l"
      }
    },
    {
      "cell_type": "code",
      "execution_count": null,
      "metadata": {
        "id": "bMAlffk622ve"
      },
      "outputs": [],
      "source": [
        "sentences = get_sentences(\"gold.conll2003-formatted.txt\")\n",
        "_, predictions = ner_model([s.tokens for s in sentences])"
      ]
    },
    {
      "cell_type": "markdown",
      "source": [
        "Записываем предсказанные результаты в выходной файле в формате хакатона"
      ],
      "metadata": {
        "id": "u5obOecsHZDi"
      }
    },
    {
      "cell_type": "code",
      "execution_count": null,
      "metadata": {
        "id": "qO63lerh33Hq",
        "colab": {
          "base_uri": "https://localhost:8080/"
        },
        "outputId": "da2955e4-ecc5-4232-87e5-87d9640dc714"
      },
      "outputs": [
        {
          "output_type": "stream",
          "name": "stdout",
          "text": [
            "<class 'list'> [['I-PERSON', 'I-PERSON', 'I-PERSON', 'I-PERSON', 'I-PERSON', 'B-TITLE', 'O', 'O', 'O'], ['O', 'B-INSTITUTION', 'I-INSTITUTION', 'I-INSTITUTION', 'I-INSTITUTION', 'I-INSTITUTION', 'O', 'O', 'O', 'O', 'O', 'O'], ['B-PERSON', 'I-PERSON', 'B-LOCATION', 'B-INSTITUTION', 'I-INSTITUTION', 'O', 'O', 'O'], ['O', 'O', 'O', 'O', 'O', 'O', 'B-TITLE', 'I-TITLE', 'I-TITLE', 'I-TITLE', 'O', 'O', 'B-TITLE', 'I-TITLE', 'I-TITLE', 'O', 'O'], ['O', 'O', 'O', 'O', 'B-TITLE', 'I-TITLE', 'I-TITLE', 'I-TITLE', 'O', 'O', 'B-INSTITUTION', 'I-INSTITUTION', 'O', 'O'], ['O', 'O', 'O', 'O', 'O', 'O', 'O', 'O', 'O', 'O', 'O', 'O'], ['O', 'O', 'O', 'O', 'O'], ['O', 'O', 'O', 'O', 'O', 'B-PERSON', 'I-PERSON', 'O', 'B-PERSON', 'I-PERSON', 'O', 'B-PERSON', 'I-PERSON', 'O', 'B-PERSON', 'I-PERSON', 'O', 'B-PERSON', 'I-PERSON', 'O', 'B-PERSON', 'I-PERSON', 'O', 'B-PERSON', 'I-PERSON', 'O', 'B-PERSON', 'I-PERSON', 'I-PERSON', 'O', 'B-PERSON', 'I-PERSON', 'O', 'B-PERSON', 'I-PERSON', 'O', 'B-PERSON', 'I-PERSON', 'O', 'B-PERSON', 'I-PERSON', 'O', 'B-PERSON', 'I-PERSON', 'O', 'B-PERSON', 'I-PERSON', 'O', 'B-PERSON', 'I-PERSON', 'O', 'B-PERSON', 'I-PERSON', 'O', 'B-PERSON', 'I-PERSON', 'O', 'B-PERSON', 'I-PERSON', 'O', 'B-PERSON', 'I-PERSON', 'O', 'B-PERSON', 'I-PERSON', 'O', 'B-PERSON', 'B-PERSON', 'I-PERSON', 'I-PERSON', 'I-PERSON', 'O', 'B-PERSON', 'I-PERSON', 'O', 'B-PERSON', 'I-PERSON', 'O', 'B-PERSON', 'I-PERSON', 'O', 'B-PERSON', 'I-PERSON', 'O', 'B-PERSON', 'I-PERSON', 'O', 'B-PERSON', 'I-PERSON', 'O', 'B-PERSON', 'I-PERSON', 'O', 'B-PERSON', 'I-PERSON', 'O', 'B-PERSON', 'I-PERSON', 'O', 'O', 'O'], ['O', 'O', 'O', 'O', 'O', 'O', 'O'], ['O', 'O', 'B-LOCATION', 'B-INSTITUTION', 'I-INSTITUTION', 'I-INSTITUTION', 'I-INSTITUTION', 'O', 'B-INSTITUTION', 'O', 'O'], ['O', 'O', 'O', 'O', 'O', 'B-PERSON', 'I-PERSON', 'O', 'B-PERSON', 'I-PERSON', 'O', 'B-PERSON', 'I-PERSON', 'O', 'B-PERSON', 'I-PERSON', 'O', 'O'], ['O', 'B-PERSON', 'I-PERSON', 'O', 'B-PERSON', 'I-PERSON', 'O', 'B-PERSON', 'I-PERSON', 'O', 'O'], ['O', 'O', 'O', 'O', 'O', 'O', 'O', 'O', 'O', 'O', 'O', 'O', 'O', 'O', 'O', 'O'], ['I-INSTITUTION', 'I-INSTITUTION', 'I-INSTITUTION', 'I-INSTITUTION', 'I-INSTITUTION', 'O', 'B-PERSON', 'I-PERSON', 'O', 'O', 'O', 'O', 'O'], ['O', 'O', 'O', 'O', 'O', 'O', 'O'], ['O', 'O', 'O', 'O', 'O', 'O', 'O', 'O', 'O', 'O', 'O', 'B-PERSON', 'I-PERSON', 'O', 'O', 'O', 'O', 'O', 'O', 'O'], ['O', 'O', 'B-PERSON', 'I-PERSON', 'O', 'O', 'O', 'O'], ['O', 'O', 'O'], ['O', 'O', 'O', 'O', 'O', 'O', 'O', 'O', 'O', 'O', 'O', 'O', 'O', 'O', 'O'], ['O', 'O', 'O', 'O', 'O', 'O', 'O', 'O', 'O', 'O', 'O', 'O', 'O', 'O', 'O', 'B-PERSON', 'I-PERSON', 'B-PERSON', 'I-PERSON', 'O', 'O', 'O', 'O', 'O', 'O', 'O'], ['O', 'O', 'O', 'O', 'O', 'O', 'O', 'O', 'O', 'O', 'O', 'O', 'O', 'O', 'O']]\n"
          ]
        }
      ],
      "source": [
        "write_predictions(sentences, predictions, \"predictions.txt\")"
      ]
    },
    {
      "cell_type": "code",
      "execution_count": null,
      "metadata": {
        "id": "3O-weSzhG-4T"
      },
      "outputs": [],
      "source": []
    }
  ],
  "metadata": {
    "colab": {
      "provenance": [],
      "gpuType": "T4",
      "include_colab_link": true
    },
    "kernelspec": {
      "display_name": "Python 3",
      "name": "python3"
    },
    "language_info": {
      "codemirror_mode": {
        "name": "ipython",
        "version": 3
      },
      "file_extension": ".py",
      "mimetype": "text/x-python",
      "name": "python",
      "nbconvert_exporter": "python",
      "pygments_lexer": "ipython3",
      "version": "3.8.2"
    },
    "accelerator": "GPU",
    "widgets": {
      "application/vnd.jupyter.widget-state+json": {
        "a60efb6f6674441cbfab0cfbd98ceb39": {
          "model_module": "@jupyter-widgets/controls",
          "model_name": "HBoxModel",
          "model_module_version": "1.5.0",
          "state": {
            "_dom_classes": [],
            "_model_module": "@jupyter-widgets/controls",
            "_model_module_version": "1.5.0",
            "_model_name": "HBoxModel",
            "_view_count": null,
            "_view_module": "@jupyter-widgets/controls",
            "_view_module_version": "1.5.0",
            "_view_name": "HBoxView",
            "box_style": "",
            "children": [
              "IPY_MODEL_80296728b9c34b9fa1421753870a7474",
              "IPY_MODEL_09a4d90d299b422fa1c9aa2f1553ee65",
              "IPY_MODEL_c79f8a1d77d94afaa267cecf19f4b831"
            ],
            "layout": "IPY_MODEL_bef9b1a759594c53b5f2fc466787b72f"
          }
        },
        "80296728b9c34b9fa1421753870a7474": {
          "model_module": "@jupyter-widgets/controls",
          "model_name": "HTMLModel",
          "model_module_version": "1.5.0",
          "state": {
            "_dom_classes": [],
            "_model_module": "@jupyter-widgets/controls",
            "_model_module_version": "1.5.0",
            "_model_name": "HTMLModel",
            "_view_count": null,
            "_view_module": "@jupyter-widgets/controls",
            "_view_module_version": "1.5.0",
            "_view_name": "HTMLView",
            "description": "",
            "description_tooltip": null,
            "layout": "IPY_MODEL_13aa5a527c0347fdbfb09f599fd56c1f",
            "placeholder": "​",
            "style": "IPY_MODEL_06f3b69f5cb74c638e6f26d20607c947",
            "value": "Downloading (…)okenizer_config.json: 100%"
          }
        },
        "09a4d90d299b422fa1c9aa2f1553ee65": {
          "model_module": "@jupyter-widgets/controls",
          "model_name": "FloatProgressModel",
          "model_module_version": "1.5.0",
          "state": {
            "_dom_classes": [],
            "_model_module": "@jupyter-widgets/controls",
            "_model_module_version": "1.5.0",
            "_model_name": "FloatProgressModel",
            "_view_count": null,
            "_view_module": "@jupyter-widgets/controls",
            "_view_module_version": "1.5.0",
            "_view_name": "ProgressView",
            "bar_style": "success",
            "description": "",
            "description_tooltip": null,
            "layout": "IPY_MODEL_f2f2b308048a4d05ba9c250a3463800e",
            "max": 29,
            "min": 0,
            "orientation": "horizontal",
            "style": "IPY_MODEL_21b6ba910a3647aa922fe91ddf405188",
            "value": 29
          }
        },
        "c79f8a1d77d94afaa267cecf19f4b831": {
          "model_module": "@jupyter-widgets/controls",
          "model_name": "HTMLModel",
          "model_module_version": "1.5.0",
          "state": {
            "_dom_classes": [],
            "_model_module": "@jupyter-widgets/controls",
            "_model_module_version": "1.5.0",
            "_model_name": "HTMLModel",
            "_view_count": null,
            "_view_module": "@jupyter-widgets/controls",
            "_view_module_version": "1.5.0",
            "_view_name": "HTMLView",
            "description": "",
            "description_tooltip": null,
            "layout": "IPY_MODEL_a704b8accece40ae8ae2e80557b481ac",
            "placeholder": "​",
            "style": "IPY_MODEL_e7f47f936a5641d9bd1f33f4aecd5a69",
            "value": " 29.0/29.0 [00:00&lt;00:00, 1.56kB/s]"
          }
        },
        "bef9b1a759594c53b5f2fc466787b72f": {
          "model_module": "@jupyter-widgets/base",
          "model_name": "LayoutModel",
          "model_module_version": "1.2.0",
          "state": {
            "_model_module": "@jupyter-widgets/base",
            "_model_module_version": "1.2.0",
            "_model_name": "LayoutModel",
            "_view_count": null,
            "_view_module": "@jupyter-widgets/base",
            "_view_module_version": "1.2.0",
            "_view_name": "LayoutView",
            "align_content": null,
            "align_items": null,
            "align_self": null,
            "border": null,
            "bottom": null,
            "display": null,
            "flex": null,
            "flex_flow": null,
            "grid_area": null,
            "grid_auto_columns": null,
            "grid_auto_flow": null,
            "grid_auto_rows": null,
            "grid_column": null,
            "grid_gap": null,
            "grid_row": null,
            "grid_template_areas": null,
            "grid_template_columns": null,
            "grid_template_rows": null,
            "height": null,
            "justify_content": null,
            "justify_items": null,
            "left": null,
            "margin": null,
            "max_height": null,
            "max_width": null,
            "min_height": null,
            "min_width": null,
            "object_fit": null,
            "object_position": null,
            "order": null,
            "overflow": null,
            "overflow_x": null,
            "overflow_y": null,
            "padding": null,
            "right": null,
            "top": null,
            "visibility": null,
            "width": null
          }
        },
        "13aa5a527c0347fdbfb09f599fd56c1f": {
          "model_module": "@jupyter-widgets/base",
          "model_name": "LayoutModel",
          "model_module_version": "1.2.0",
          "state": {
            "_model_module": "@jupyter-widgets/base",
            "_model_module_version": "1.2.0",
            "_model_name": "LayoutModel",
            "_view_count": null,
            "_view_module": "@jupyter-widgets/base",
            "_view_module_version": "1.2.0",
            "_view_name": "LayoutView",
            "align_content": null,
            "align_items": null,
            "align_self": null,
            "border": null,
            "bottom": null,
            "display": null,
            "flex": null,
            "flex_flow": null,
            "grid_area": null,
            "grid_auto_columns": null,
            "grid_auto_flow": null,
            "grid_auto_rows": null,
            "grid_column": null,
            "grid_gap": null,
            "grid_row": null,
            "grid_template_areas": null,
            "grid_template_columns": null,
            "grid_template_rows": null,
            "height": null,
            "justify_content": null,
            "justify_items": null,
            "left": null,
            "margin": null,
            "max_height": null,
            "max_width": null,
            "min_height": null,
            "min_width": null,
            "object_fit": null,
            "object_position": null,
            "order": null,
            "overflow": null,
            "overflow_x": null,
            "overflow_y": null,
            "padding": null,
            "right": null,
            "top": null,
            "visibility": null,
            "width": null
          }
        },
        "06f3b69f5cb74c638e6f26d20607c947": {
          "model_module": "@jupyter-widgets/controls",
          "model_name": "DescriptionStyleModel",
          "model_module_version": "1.5.0",
          "state": {
            "_model_module": "@jupyter-widgets/controls",
            "_model_module_version": "1.5.0",
            "_model_name": "DescriptionStyleModel",
            "_view_count": null,
            "_view_module": "@jupyter-widgets/base",
            "_view_module_version": "1.2.0",
            "_view_name": "StyleView",
            "description_width": ""
          }
        },
        "f2f2b308048a4d05ba9c250a3463800e": {
          "model_module": "@jupyter-widgets/base",
          "model_name": "LayoutModel",
          "model_module_version": "1.2.0",
          "state": {
            "_model_module": "@jupyter-widgets/base",
            "_model_module_version": "1.2.0",
            "_model_name": "LayoutModel",
            "_view_count": null,
            "_view_module": "@jupyter-widgets/base",
            "_view_module_version": "1.2.0",
            "_view_name": "LayoutView",
            "align_content": null,
            "align_items": null,
            "align_self": null,
            "border": null,
            "bottom": null,
            "display": null,
            "flex": null,
            "flex_flow": null,
            "grid_area": null,
            "grid_auto_columns": null,
            "grid_auto_flow": null,
            "grid_auto_rows": null,
            "grid_column": null,
            "grid_gap": null,
            "grid_row": null,
            "grid_template_areas": null,
            "grid_template_columns": null,
            "grid_template_rows": null,
            "height": null,
            "justify_content": null,
            "justify_items": null,
            "left": null,
            "margin": null,
            "max_height": null,
            "max_width": null,
            "min_height": null,
            "min_width": null,
            "object_fit": null,
            "object_position": null,
            "order": null,
            "overflow": null,
            "overflow_x": null,
            "overflow_y": null,
            "padding": null,
            "right": null,
            "top": null,
            "visibility": null,
            "width": null
          }
        },
        "21b6ba910a3647aa922fe91ddf405188": {
          "model_module": "@jupyter-widgets/controls",
          "model_name": "ProgressStyleModel",
          "model_module_version": "1.5.0",
          "state": {
            "_model_module": "@jupyter-widgets/controls",
            "_model_module_version": "1.5.0",
            "_model_name": "ProgressStyleModel",
            "_view_count": null,
            "_view_module": "@jupyter-widgets/base",
            "_view_module_version": "1.2.0",
            "_view_name": "StyleView",
            "bar_color": null,
            "description_width": ""
          }
        },
        "a704b8accece40ae8ae2e80557b481ac": {
          "model_module": "@jupyter-widgets/base",
          "model_name": "LayoutModel",
          "model_module_version": "1.2.0",
          "state": {
            "_model_module": "@jupyter-widgets/base",
            "_model_module_version": "1.2.0",
            "_model_name": "LayoutModel",
            "_view_count": null,
            "_view_module": "@jupyter-widgets/base",
            "_view_module_version": "1.2.0",
            "_view_name": "LayoutView",
            "align_content": null,
            "align_items": null,
            "align_self": null,
            "border": null,
            "bottom": null,
            "display": null,
            "flex": null,
            "flex_flow": null,
            "grid_area": null,
            "grid_auto_columns": null,
            "grid_auto_flow": null,
            "grid_auto_rows": null,
            "grid_column": null,
            "grid_gap": null,
            "grid_row": null,
            "grid_template_areas": null,
            "grid_template_columns": null,
            "grid_template_rows": null,
            "height": null,
            "justify_content": null,
            "justify_items": null,
            "left": null,
            "margin": null,
            "max_height": null,
            "max_width": null,
            "min_height": null,
            "min_width": null,
            "object_fit": null,
            "object_position": null,
            "order": null,
            "overflow": null,
            "overflow_x": null,
            "overflow_y": null,
            "padding": null,
            "right": null,
            "top": null,
            "visibility": null,
            "width": null
          }
        },
        "e7f47f936a5641d9bd1f33f4aecd5a69": {
          "model_module": "@jupyter-widgets/controls",
          "model_name": "DescriptionStyleModel",
          "model_module_version": "1.5.0",
          "state": {
            "_model_module": "@jupyter-widgets/controls",
            "_model_module_version": "1.5.0",
            "_model_name": "DescriptionStyleModel",
            "_view_count": null,
            "_view_module": "@jupyter-widgets/base",
            "_view_module_version": "1.2.0",
            "_view_name": "StyleView",
            "description_width": ""
          }
        },
        "5540c96d1a1b463ea31c43c16f87f4c1": {
          "model_module": "@jupyter-widgets/controls",
          "model_name": "HBoxModel",
          "model_module_version": "1.5.0",
          "state": {
            "_dom_classes": [],
            "_model_module": "@jupyter-widgets/controls",
            "_model_module_version": "1.5.0",
            "_model_name": "HBoxModel",
            "_view_count": null,
            "_view_module": "@jupyter-widgets/controls",
            "_view_module_version": "1.5.0",
            "_view_name": "HBoxView",
            "box_style": "",
            "children": [
              "IPY_MODEL_31ef6e5836c24eecaea6de09f7471528",
              "IPY_MODEL_6e46dcd2458445faa46fbd22635bbbd8",
              "IPY_MODEL_411513e07a634f788952bfb3f75f1e09"
            ],
            "layout": "IPY_MODEL_327b902df6b24da686c5b57460c7aa24"
          }
        },
        "31ef6e5836c24eecaea6de09f7471528": {
          "model_module": "@jupyter-widgets/controls",
          "model_name": "HTMLModel",
          "model_module_version": "1.5.0",
          "state": {
            "_dom_classes": [],
            "_model_module": "@jupyter-widgets/controls",
            "_model_module_version": "1.5.0",
            "_model_name": "HTMLModel",
            "_view_count": null,
            "_view_module": "@jupyter-widgets/controls",
            "_view_module_version": "1.5.0",
            "_view_name": "HTMLView",
            "description": "",
            "description_tooltip": null,
            "layout": "IPY_MODEL_889ed954efdc4967a3364ac233dcf413",
            "placeholder": "​",
            "style": "IPY_MODEL_94587f6d403e4624b07979247d873db7",
            "value": "Downloading (…)lve/main/config.json: 100%"
          }
        },
        "6e46dcd2458445faa46fbd22635bbbd8": {
          "model_module": "@jupyter-widgets/controls",
          "model_name": "FloatProgressModel",
          "model_module_version": "1.5.0",
          "state": {
            "_dom_classes": [],
            "_model_module": "@jupyter-widgets/controls",
            "_model_module_version": "1.5.0",
            "_model_name": "FloatProgressModel",
            "_view_count": null,
            "_view_module": "@jupyter-widgets/controls",
            "_view_module_version": "1.5.0",
            "_view_name": "ProgressView",
            "bar_style": "success",
            "description": "",
            "description_tooltip": null,
            "layout": "IPY_MODEL_20878d977ef64fae9f5535220b917e72",
            "max": 625,
            "min": 0,
            "orientation": "horizontal",
            "style": "IPY_MODEL_f13f6138fbd24065ad8a3e7d7bf92b42",
            "value": 625
          }
        },
        "411513e07a634f788952bfb3f75f1e09": {
          "model_module": "@jupyter-widgets/controls",
          "model_name": "HTMLModel",
          "model_module_version": "1.5.0",
          "state": {
            "_dom_classes": [],
            "_model_module": "@jupyter-widgets/controls",
            "_model_module_version": "1.5.0",
            "_model_name": "HTMLModel",
            "_view_count": null,
            "_view_module": "@jupyter-widgets/controls",
            "_view_module_version": "1.5.0",
            "_view_name": "HTMLView",
            "description": "",
            "description_tooltip": null,
            "layout": "IPY_MODEL_92a6585e07e44172a8299a905aafacbe",
            "placeholder": "​",
            "style": "IPY_MODEL_a24e897294bf4c2e8bb3fc7102088b64",
            "value": " 625/625 [00:00&lt;00:00, 46.8kB/s]"
          }
        },
        "327b902df6b24da686c5b57460c7aa24": {
          "model_module": "@jupyter-widgets/base",
          "model_name": "LayoutModel",
          "model_module_version": "1.2.0",
          "state": {
            "_model_module": "@jupyter-widgets/base",
            "_model_module_version": "1.2.0",
            "_model_name": "LayoutModel",
            "_view_count": null,
            "_view_module": "@jupyter-widgets/base",
            "_view_module_version": "1.2.0",
            "_view_name": "LayoutView",
            "align_content": null,
            "align_items": null,
            "align_self": null,
            "border": null,
            "bottom": null,
            "display": null,
            "flex": null,
            "flex_flow": null,
            "grid_area": null,
            "grid_auto_columns": null,
            "grid_auto_flow": null,
            "grid_auto_rows": null,
            "grid_column": null,
            "grid_gap": null,
            "grid_row": null,
            "grid_template_areas": null,
            "grid_template_columns": null,
            "grid_template_rows": null,
            "height": null,
            "justify_content": null,
            "justify_items": null,
            "left": null,
            "margin": null,
            "max_height": null,
            "max_width": null,
            "min_height": null,
            "min_width": null,
            "object_fit": null,
            "object_position": null,
            "order": null,
            "overflow": null,
            "overflow_x": null,
            "overflow_y": null,
            "padding": null,
            "right": null,
            "top": null,
            "visibility": null,
            "width": null
          }
        },
        "889ed954efdc4967a3364ac233dcf413": {
          "model_module": "@jupyter-widgets/base",
          "model_name": "LayoutModel",
          "model_module_version": "1.2.0",
          "state": {
            "_model_module": "@jupyter-widgets/base",
            "_model_module_version": "1.2.0",
            "_model_name": "LayoutModel",
            "_view_count": null,
            "_view_module": "@jupyter-widgets/base",
            "_view_module_version": "1.2.0",
            "_view_name": "LayoutView",
            "align_content": null,
            "align_items": null,
            "align_self": null,
            "border": null,
            "bottom": null,
            "display": null,
            "flex": null,
            "flex_flow": null,
            "grid_area": null,
            "grid_auto_columns": null,
            "grid_auto_flow": null,
            "grid_auto_rows": null,
            "grid_column": null,
            "grid_gap": null,
            "grid_row": null,
            "grid_template_areas": null,
            "grid_template_columns": null,
            "grid_template_rows": null,
            "height": null,
            "justify_content": null,
            "justify_items": null,
            "left": null,
            "margin": null,
            "max_height": null,
            "max_width": null,
            "min_height": null,
            "min_width": null,
            "object_fit": null,
            "object_position": null,
            "order": null,
            "overflow": null,
            "overflow_x": null,
            "overflow_y": null,
            "padding": null,
            "right": null,
            "top": null,
            "visibility": null,
            "width": null
          }
        },
        "94587f6d403e4624b07979247d873db7": {
          "model_module": "@jupyter-widgets/controls",
          "model_name": "DescriptionStyleModel",
          "model_module_version": "1.5.0",
          "state": {
            "_model_module": "@jupyter-widgets/controls",
            "_model_module_version": "1.5.0",
            "_model_name": "DescriptionStyleModel",
            "_view_count": null,
            "_view_module": "@jupyter-widgets/base",
            "_view_module_version": "1.2.0",
            "_view_name": "StyleView",
            "description_width": ""
          }
        },
        "20878d977ef64fae9f5535220b917e72": {
          "model_module": "@jupyter-widgets/base",
          "model_name": "LayoutModel",
          "model_module_version": "1.2.0",
          "state": {
            "_model_module": "@jupyter-widgets/base",
            "_model_module_version": "1.2.0",
            "_model_name": "LayoutModel",
            "_view_count": null,
            "_view_module": "@jupyter-widgets/base",
            "_view_module_version": "1.2.0",
            "_view_name": "LayoutView",
            "align_content": null,
            "align_items": null,
            "align_self": null,
            "border": null,
            "bottom": null,
            "display": null,
            "flex": null,
            "flex_flow": null,
            "grid_area": null,
            "grid_auto_columns": null,
            "grid_auto_flow": null,
            "grid_auto_rows": null,
            "grid_column": null,
            "grid_gap": null,
            "grid_row": null,
            "grid_template_areas": null,
            "grid_template_columns": null,
            "grid_template_rows": null,
            "height": null,
            "justify_content": null,
            "justify_items": null,
            "left": null,
            "margin": null,
            "max_height": null,
            "max_width": null,
            "min_height": null,
            "min_width": null,
            "object_fit": null,
            "object_position": null,
            "order": null,
            "overflow": null,
            "overflow_x": null,
            "overflow_y": null,
            "padding": null,
            "right": null,
            "top": null,
            "visibility": null,
            "width": null
          }
        },
        "f13f6138fbd24065ad8a3e7d7bf92b42": {
          "model_module": "@jupyter-widgets/controls",
          "model_name": "ProgressStyleModel",
          "model_module_version": "1.5.0",
          "state": {
            "_model_module": "@jupyter-widgets/controls",
            "_model_module_version": "1.5.0",
            "_model_name": "ProgressStyleModel",
            "_view_count": null,
            "_view_module": "@jupyter-widgets/base",
            "_view_module_version": "1.2.0",
            "_view_name": "StyleView",
            "bar_color": null,
            "description_width": ""
          }
        },
        "92a6585e07e44172a8299a905aafacbe": {
          "model_module": "@jupyter-widgets/base",
          "model_name": "LayoutModel",
          "model_module_version": "1.2.0",
          "state": {
            "_model_module": "@jupyter-widgets/base",
            "_model_module_version": "1.2.0",
            "_model_name": "LayoutModel",
            "_view_count": null,
            "_view_module": "@jupyter-widgets/base",
            "_view_module_version": "1.2.0",
            "_view_name": "LayoutView",
            "align_content": null,
            "align_items": null,
            "align_self": null,
            "border": null,
            "bottom": null,
            "display": null,
            "flex": null,
            "flex_flow": null,
            "grid_area": null,
            "grid_auto_columns": null,
            "grid_auto_flow": null,
            "grid_auto_rows": null,
            "grid_column": null,
            "grid_gap": null,
            "grid_row": null,
            "grid_template_areas": null,
            "grid_template_columns": null,
            "grid_template_rows": null,
            "height": null,
            "justify_content": null,
            "justify_items": null,
            "left": null,
            "margin": null,
            "max_height": null,
            "max_width": null,
            "min_height": null,
            "min_width": null,
            "object_fit": null,
            "object_position": null,
            "order": null,
            "overflow": null,
            "overflow_x": null,
            "overflow_y": null,
            "padding": null,
            "right": null,
            "top": null,
            "visibility": null,
            "width": null
          }
        },
        "a24e897294bf4c2e8bb3fc7102088b64": {
          "model_module": "@jupyter-widgets/controls",
          "model_name": "DescriptionStyleModel",
          "model_module_version": "1.5.0",
          "state": {
            "_model_module": "@jupyter-widgets/controls",
            "_model_module_version": "1.5.0",
            "_model_name": "DescriptionStyleModel",
            "_view_count": null,
            "_view_module": "@jupyter-widgets/base",
            "_view_module_version": "1.2.0",
            "_view_name": "StyleView",
            "description_width": ""
          }
        },
        "d80e207feeb943a3952b50c68b51008e": {
          "model_module": "@jupyter-widgets/controls",
          "model_name": "HBoxModel",
          "model_module_version": "1.5.0",
          "state": {
            "_dom_classes": [],
            "_model_module": "@jupyter-widgets/controls",
            "_model_module_version": "1.5.0",
            "_model_name": "HBoxModel",
            "_view_count": null,
            "_view_module": "@jupyter-widgets/controls",
            "_view_module_version": "1.5.0",
            "_view_name": "HBoxView",
            "box_style": "",
            "children": [
              "IPY_MODEL_ca7c9ea7c2544c4798bcd246ab285b58",
              "IPY_MODEL_185e94e35da94afaa71edebe8cc4d6a5",
              "IPY_MODEL_563ba710696744dd982eb68314bb697d"
            ],
            "layout": "IPY_MODEL_fa1fe824ccb14af28feca2ea547477fb"
          }
        },
        "ca7c9ea7c2544c4798bcd246ab285b58": {
          "model_module": "@jupyter-widgets/controls",
          "model_name": "HTMLModel",
          "model_module_version": "1.5.0",
          "state": {
            "_dom_classes": [],
            "_model_module": "@jupyter-widgets/controls",
            "_model_module_version": "1.5.0",
            "_model_name": "HTMLModel",
            "_view_count": null,
            "_view_module": "@jupyter-widgets/controls",
            "_view_module_version": "1.5.0",
            "_view_name": "HTMLView",
            "description": "",
            "description_tooltip": null,
            "layout": "IPY_MODEL_3acf6675fdd041e4be0d0ffb7052b85f",
            "placeholder": "​",
            "style": "IPY_MODEL_7f65e5b89ab94caca0f244694a5af5e8",
            "value": "Downloading (…)solve/main/vocab.txt: 100%"
          }
        },
        "185e94e35da94afaa71edebe8cc4d6a5": {
          "model_module": "@jupyter-widgets/controls",
          "model_name": "FloatProgressModel",
          "model_module_version": "1.5.0",
          "state": {
            "_dom_classes": [],
            "_model_module": "@jupyter-widgets/controls",
            "_model_module_version": "1.5.0",
            "_model_name": "FloatProgressModel",
            "_view_count": null,
            "_view_module": "@jupyter-widgets/controls",
            "_view_module_version": "1.5.0",
            "_view_name": "ProgressView",
            "bar_style": "success",
            "description": "",
            "description_tooltip": null,
            "layout": "IPY_MODEL_593ce6c20d4b44f49c000b321cb1542d",
            "max": 995526,
            "min": 0,
            "orientation": "horizontal",
            "style": "IPY_MODEL_1c21a1aed09543dcb60c9613e1889005",
            "value": 995526
          }
        },
        "563ba710696744dd982eb68314bb697d": {
          "model_module": "@jupyter-widgets/controls",
          "model_name": "HTMLModel",
          "model_module_version": "1.5.0",
          "state": {
            "_dom_classes": [],
            "_model_module": "@jupyter-widgets/controls",
            "_model_module_version": "1.5.0",
            "_model_name": "HTMLModel",
            "_view_count": null,
            "_view_module": "@jupyter-widgets/controls",
            "_view_module_version": "1.5.0",
            "_view_name": "HTMLView",
            "description": "",
            "description_tooltip": null,
            "layout": "IPY_MODEL_31fd6d02b6844d99af73b47f60ab12db",
            "placeholder": "​",
            "style": "IPY_MODEL_3741a8fe72d545e1b426a6b24342560d",
            "value": " 996k/996k [00:00&lt;00:00, 2.35MB/s]"
          }
        },
        "fa1fe824ccb14af28feca2ea547477fb": {
          "model_module": "@jupyter-widgets/base",
          "model_name": "LayoutModel",
          "model_module_version": "1.2.0",
          "state": {
            "_model_module": "@jupyter-widgets/base",
            "_model_module_version": "1.2.0",
            "_model_name": "LayoutModel",
            "_view_count": null,
            "_view_module": "@jupyter-widgets/base",
            "_view_module_version": "1.2.0",
            "_view_name": "LayoutView",
            "align_content": null,
            "align_items": null,
            "align_self": null,
            "border": null,
            "bottom": null,
            "display": null,
            "flex": null,
            "flex_flow": null,
            "grid_area": null,
            "grid_auto_columns": null,
            "grid_auto_flow": null,
            "grid_auto_rows": null,
            "grid_column": null,
            "grid_gap": null,
            "grid_row": null,
            "grid_template_areas": null,
            "grid_template_columns": null,
            "grid_template_rows": null,
            "height": null,
            "justify_content": null,
            "justify_items": null,
            "left": null,
            "margin": null,
            "max_height": null,
            "max_width": null,
            "min_height": null,
            "min_width": null,
            "object_fit": null,
            "object_position": null,
            "order": null,
            "overflow": null,
            "overflow_x": null,
            "overflow_y": null,
            "padding": null,
            "right": null,
            "top": null,
            "visibility": null,
            "width": null
          }
        },
        "3acf6675fdd041e4be0d0ffb7052b85f": {
          "model_module": "@jupyter-widgets/base",
          "model_name": "LayoutModel",
          "model_module_version": "1.2.0",
          "state": {
            "_model_module": "@jupyter-widgets/base",
            "_model_module_version": "1.2.0",
            "_model_name": "LayoutModel",
            "_view_count": null,
            "_view_module": "@jupyter-widgets/base",
            "_view_module_version": "1.2.0",
            "_view_name": "LayoutView",
            "align_content": null,
            "align_items": null,
            "align_self": null,
            "border": null,
            "bottom": null,
            "display": null,
            "flex": null,
            "flex_flow": null,
            "grid_area": null,
            "grid_auto_columns": null,
            "grid_auto_flow": null,
            "grid_auto_rows": null,
            "grid_column": null,
            "grid_gap": null,
            "grid_row": null,
            "grid_template_areas": null,
            "grid_template_columns": null,
            "grid_template_rows": null,
            "height": null,
            "justify_content": null,
            "justify_items": null,
            "left": null,
            "margin": null,
            "max_height": null,
            "max_width": null,
            "min_height": null,
            "min_width": null,
            "object_fit": null,
            "object_position": null,
            "order": null,
            "overflow": null,
            "overflow_x": null,
            "overflow_y": null,
            "padding": null,
            "right": null,
            "top": null,
            "visibility": null,
            "width": null
          }
        },
        "7f65e5b89ab94caca0f244694a5af5e8": {
          "model_module": "@jupyter-widgets/controls",
          "model_name": "DescriptionStyleModel",
          "model_module_version": "1.5.0",
          "state": {
            "_model_module": "@jupyter-widgets/controls",
            "_model_module_version": "1.5.0",
            "_model_name": "DescriptionStyleModel",
            "_view_count": null,
            "_view_module": "@jupyter-widgets/base",
            "_view_module_version": "1.2.0",
            "_view_name": "StyleView",
            "description_width": ""
          }
        },
        "593ce6c20d4b44f49c000b321cb1542d": {
          "model_module": "@jupyter-widgets/base",
          "model_name": "LayoutModel",
          "model_module_version": "1.2.0",
          "state": {
            "_model_module": "@jupyter-widgets/base",
            "_model_module_version": "1.2.0",
            "_model_name": "LayoutModel",
            "_view_count": null,
            "_view_module": "@jupyter-widgets/base",
            "_view_module_version": "1.2.0",
            "_view_name": "LayoutView",
            "align_content": null,
            "align_items": null,
            "align_self": null,
            "border": null,
            "bottom": null,
            "display": null,
            "flex": null,
            "flex_flow": null,
            "grid_area": null,
            "grid_auto_columns": null,
            "grid_auto_flow": null,
            "grid_auto_rows": null,
            "grid_column": null,
            "grid_gap": null,
            "grid_row": null,
            "grid_template_areas": null,
            "grid_template_columns": null,
            "grid_template_rows": null,
            "height": null,
            "justify_content": null,
            "justify_items": null,
            "left": null,
            "margin": null,
            "max_height": null,
            "max_width": null,
            "min_height": null,
            "min_width": null,
            "object_fit": null,
            "object_position": null,
            "order": null,
            "overflow": null,
            "overflow_x": null,
            "overflow_y": null,
            "padding": null,
            "right": null,
            "top": null,
            "visibility": null,
            "width": null
          }
        },
        "1c21a1aed09543dcb60c9613e1889005": {
          "model_module": "@jupyter-widgets/controls",
          "model_name": "ProgressStyleModel",
          "model_module_version": "1.5.0",
          "state": {
            "_model_module": "@jupyter-widgets/controls",
            "_model_module_version": "1.5.0",
            "_model_name": "ProgressStyleModel",
            "_view_count": null,
            "_view_module": "@jupyter-widgets/base",
            "_view_module_version": "1.2.0",
            "_view_name": "StyleView",
            "bar_color": null,
            "description_width": ""
          }
        },
        "31fd6d02b6844d99af73b47f60ab12db": {
          "model_module": "@jupyter-widgets/base",
          "model_name": "LayoutModel",
          "model_module_version": "1.2.0",
          "state": {
            "_model_module": "@jupyter-widgets/base",
            "_model_module_version": "1.2.0",
            "_model_name": "LayoutModel",
            "_view_count": null,
            "_view_module": "@jupyter-widgets/base",
            "_view_module_version": "1.2.0",
            "_view_name": "LayoutView",
            "align_content": null,
            "align_items": null,
            "align_self": null,
            "border": null,
            "bottom": null,
            "display": null,
            "flex": null,
            "flex_flow": null,
            "grid_area": null,
            "grid_auto_columns": null,
            "grid_auto_flow": null,
            "grid_auto_rows": null,
            "grid_column": null,
            "grid_gap": null,
            "grid_row": null,
            "grid_template_areas": null,
            "grid_template_columns": null,
            "grid_template_rows": null,
            "height": null,
            "justify_content": null,
            "justify_items": null,
            "left": null,
            "margin": null,
            "max_height": null,
            "max_width": null,
            "min_height": null,
            "min_width": null,
            "object_fit": null,
            "object_position": null,
            "order": null,
            "overflow": null,
            "overflow_x": null,
            "overflow_y": null,
            "padding": null,
            "right": null,
            "top": null,
            "visibility": null,
            "width": null
          }
        },
        "3741a8fe72d545e1b426a6b24342560d": {
          "model_module": "@jupyter-widgets/controls",
          "model_name": "DescriptionStyleModel",
          "model_module_version": "1.5.0",
          "state": {
            "_model_module": "@jupyter-widgets/controls",
            "_model_module_version": "1.5.0",
            "_model_name": "DescriptionStyleModel",
            "_view_count": null,
            "_view_module": "@jupyter-widgets/base",
            "_view_module_version": "1.2.0",
            "_view_name": "StyleView",
            "description_width": ""
          }
        },
        "d05cc9f7729e422db56d61f4c55973f7": {
          "model_module": "@jupyter-widgets/controls",
          "model_name": "HBoxModel",
          "model_module_version": "1.5.0",
          "state": {
            "_dom_classes": [],
            "_model_module": "@jupyter-widgets/controls",
            "_model_module_version": "1.5.0",
            "_model_name": "HBoxModel",
            "_view_count": null,
            "_view_module": "@jupyter-widgets/controls",
            "_view_module_version": "1.5.0",
            "_view_name": "HBoxView",
            "box_style": "",
            "children": [
              "IPY_MODEL_3291e2edf1474afa93fdbde916abf1c1",
              "IPY_MODEL_fe72b8d1c59943a4bc849105fa6922a9",
              "IPY_MODEL_a7d5a4ddaf7a460582da6d1bfb34b5c3"
            ],
            "layout": "IPY_MODEL_894263c57c394c2aa92c414337b5895a"
          }
        },
        "3291e2edf1474afa93fdbde916abf1c1": {
          "model_module": "@jupyter-widgets/controls",
          "model_name": "HTMLModel",
          "model_module_version": "1.5.0",
          "state": {
            "_dom_classes": [],
            "_model_module": "@jupyter-widgets/controls",
            "_model_module_version": "1.5.0",
            "_model_name": "HTMLModel",
            "_view_count": null,
            "_view_module": "@jupyter-widgets/controls",
            "_view_module_version": "1.5.0",
            "_view_name": "HTMLView",
            "description": "",
            "description_tooltip": null,
            "layout": "IPY_MODEL_132b17158d844a27a39e9f9b4d0753cd",
            "placeholder": "​",
            "style": "IPY_MODEL_a65bd76212d242d38f186d56c08a699d",
            "value": "Downloading (…)/main/tokenizer.json: 100%"
          }
        },
        "fe72b8d1c59943a4bc849105fa6922a9": {
          "model_module": "@jupyter-widgets/controls",
          "model_name": "FloatProgressModel",
          "model_module_version": "1.5.0",
          "state": {
            "_dom_classes": [],
            "_model_module": "@jupyter-widgets/controls",
            "_model_module_version": "1.5.0",
            "_model_name": "FloatProgressModel",
            "_view_count": null,
            "_view_module": "@jupyter-widgets/controls",
            "_view_module_version": "1.5.0",
            "_view_name": "ProgressView",
            "bar_style": "success",
            "description": "",
            "description_tooltip": null,
            "layout": "IPY_MODEL_8c171bac6919409a805add8923314db2",
            "max": 1961828,
            "min": 0,
            "orientation": "horizontal",
            "style": "IPY_MODEL_929b4a93703f4c3eb173ecd1d35b129c",
            "value": 1961828
          }
        },
        "a7d5a4ddaf7a460582da6d1bfb34b5c3": {
          "model_module": "@jupyter-widgets/controls",
          "model_name": "HTMLModel",
          "model_module_version": "1.5.0",
          "state": {
            "_dom_classes": [],
            "_model_module": "@jupyter-widgets/controls",
            "_model_module_version": "1.5.0",
            "_model_name": "HTMLModel",
            "_view_count": null,
            "_view_module": "@jupyter-widgets/controls",
            "_view_module_version": "1.5.0",
            "_view_name": "HTMLView",
            "description": "",
            "description_tooltip": null,
            "layout": "IPY_MODEL_01581abf78384b36bbf5b8e61e7be492",
            "placeholder": "​",
            "style": "IPY_MODEL_4b70eb1d673445df9e3925b0241577de",
            "value": " 1.96M/1.96M [00:00&lt;00:00, 9.01MB/s]"
          }
        },
        "894263c57c394c2aa92c414337b5895a": {
          "model_module": "@jupyter-widgets/base",
          "model_name": "LayoutModel",
          "model_module_version": "1.2.0",
          "state": {
            "_model_module": "@jupyter-widgets/base",
            "_model_module_version": "1.2.0",
            "_model_name": "LayoutModel",
            "_view_count": null,
            "_view_module": "@jupyter-widgets/base",
            "_view_module_version": "1.2.0",
            "_view_name": "LayoutView",
            "align_content": null,
            "align_items": null,
            "align_self": null,
            "border": null,
            "bottom": null,
            "display": null,
            "flex": null,
            "flex_flow": null,
            "grid_area": null,
            "grid_auto_columns": null,
            "grid_auto_flow": null,
            "grid_auto_rows": null,
            "grid_column": null,
            "grid_gap": null,
            "grid_row": null,
            "grid_template_areas": null,
            "grid_template_columns": null,
            "grid_template_rows": null,
            "height": null,
            "justify_content": null,
            "justify_items": null,
            "left": null,
            "margin": null,
            "max_height": null,
            "max_width": null,
            "min_height": null,
            "min_width": null,
            "object_fit": null,
            "object_position": null,
            "order": null,
            "overflow": null,
            "overflow_x": null,
            "overflow_y": null,
            "padding": null,
            "right": null,
            "top": null,
            "visibility": null,
            "width": null
          }
        },
        "132b17158d844a27a39e9f9b4d0753cd": {
          "model_module": "@jupyter-widgets/base",
          "model_name": "LayoutModel",
          "model_module_version": "1.2.0",
          "state": {
            "_model_module": "@jupyter-widgets/base",
            "_model_module_version": "1.2.0",
            "_model_name": "LayoutModel",
            "_view_count": null,
            "_view_module": "@jupyter-widgets/base",
            "_view_module_version": "1.2.0",
            "_view_name": "LayoutView",
            "align_content": null,
            "align_items": null,
            "align_self": null,
            "border": null,
            "bottom": null,
            "display": null,
            "flex": null,
            "flex_flow": null,
            "grid_area": null,
            "grid_auto_columns": null,
            "grid_auto_flow": null,
            "grid_auto_rows": null,
            "grid_column": null,
            "grid_gap": null,
            "grid_row": null,
            "grid_template_areas": null,
            "grid_template_columns": null,
            "grid_template_rows": null,
            "height": null,
            "justify_content": null,
            "justify_items": null,
            "left": null,
            "margin": null,
            "max_height": null,
            "max_width": null,
            "min_height": null,
            "min_width": null,
            "object_fit": null,
            "object_position": null,
            "order": null,
            "overflow": null,
            "overflow_x": null,
            "overflow_y": null,
            "padding": null,
            "right": null,
            "top": null,
            "visibility": null,
            "width": null
          }
        },
        "a65bd76212d242d38f186d56c08a699d": {
          "model_module": "@jupyter-widgets/controls",
          "model_name": "DescriptionStyleModel",
          "model_module_version": "1.5.0",
          "state": {
            "_model_module": "@jupyter-widgets/controls",
            "_model_module_version": "1.5.0",
            "_model_name": "DescriptionStyleModel",
            "_view_count": null,
            "_view_module": "@jupyter-widgets/base",
            "_view_module_version": "1.2.0",
            "_view_name": "StyleView",
            "description_width": ""
          }
        },
        "8c171bac6919409a805add8923314db2": {
          "model_module": "@jupyter-widgets/base",
          "model_name": "LayoutModel",
          "model_module_version": "1.2.0",
          "state": {
            "_model_module": "@jupyter-widgets/base",
            "_model_module_version": "1.2.0",
            "_model_name": "LayoutModel",
            "_view_count": null,
            "_view_module": "@jupyter-widgets/base",
            "_view_module_version": "1.2.0",
            "_view_name": "LayoutView",
            "align_content": null,
            "align_items": null,
            "align_self": null,
            "border": null,
            "bottom": null,
            "display": null,
            "flex": null,
            "flex_flow": null,
            "grid_area": null,
            "grid_auto_columns": null,
            "grid_auto_flow": null,
            "grid_auto_rows": null,
            "grid_column": null,
            "grid_gap": null,
            "grid_row": null,
            "grid_template_areas": null,
            "grid_template_columns": null,
            "grid_template_rows": null,
            "height": null,
            "justify_content": null,
            "justify_items": null,
            "left": null,
            "margin": null,
            "max_height": null,
            "max_width": null,
            "min_height": null,
            "min_width": null,
            "object_fit": null,
            "object_position": null,
            "order": null,
            "overflow": null,
            "overflow_x": null,
            "overflow_y": null,
            "padding": null,
            "right": null,
            "top": null,
            "visibility": null,
            "width": null
          }
        },
        "929b4a93703f4c3eb173ecd1d35b129c": {
          "model_module": "@jupyter-widgets/controls",
          "model_name": "ProgressStyleModel",
          "model_module_version": "1.5.0",
          "state": {
            "_model_module": "@jupyter-widgets/controls",
            "_model_module_version": "1.5.0",
            "_model_name": "ProgressStyleModel",
            "_view_count": null,
            "_view_module": "@jupyter-widgets/base",
            "_view_module_version": "1.2.0",
            "_view_name": "StyleView",
            "bar_color": null,
            "description_width": ""
          }
        },
        "01581abf78384b36bbf5b8e61e7be492": {
          "model_module": "@jupyter-widgets/base",
          "model_name": "LayoutModel",
          "model_module_version": "1.2.0",
          "state": {
            "_model_module": "@jupyter-widgets/base",
            "_model_module_version": "1.2.0",
            "_model_name": "LayoutModel",
            "_view_count": null,
            "_view_module": "@jupyter-widgets/base",
            "_view_module_version": "1.2.0",
            "_view_name": "LayoutView",
            "align_content": null,
            "align_items": null,
            "align_self": null,
            "border": null,
            "bottom": null,
            "display": null,
            "flex": null,
            "flex_flow": null,
            "grid_area": null,
            "grid_auto_columns": null,
            "grid_auto_flow": null,
            "grid_auto_rows": null,
            "grid_column": null,
            "grid_gap": null,
            "grid_row": null,
            "grid_template_areas": null,
            "grid_template_columns": null,
            "grid_template_rows": null,
            "height": null,
            "justify_content": null,
            "justify_items": null,
            "left": null,
            "margin": null,
            "max_height": null,
            "max_width": null,
            "min_height": null,
            "min_width": null,
            "object_fit": null,
            "object_position": null,
            "order": null,
            "overflow": null,
            "overflow_x": null,
            "overflow_y": null,
            "padding": null,
            "right": null,
            "top": null,
            "visibility": null,
            "width": null
          }
        },
        "4b70eb1d673445df9e3925b0241577de": {
          "model_module": "@jupyter-widgets/controls",
          "model_name": "DescriptionStyleModel",
          "model_module_version": "1.5.0",
          "state": {
            "_model_module": "@jupyter-widgets/controls",
            "_model_module_version": "1.5.0",
            "_model_name": "DescriptionStyleModel",
            "_view_count": null,
            "_view_module": "@jupyter-widgets/base",
            "_view_module_version": "1.2.0",
            "_view_name": "StyleView",
            "description_width": ""
          }
        },
        "08b7426e9b744ef288457b9c19b854fd": {
          "model_module": "@jupyter-widgets/controls",
          "model_name": "HBoxModel",
          "model_module_version": "1.5.0",
          "state": {
            "_dom_classes": [],
            "_model_module": "@jupyter-widgets/controls",
            "_model_module_version": "1.5.0",
            "_model_name": "HBoxModel",
            "_view_count": null,
            "_view_module": "@jupyter-widgets/controls",
            "_view_module_version": "1.5.0",
            "_view_name": "HBoxView",
            "box_style": "",
            "children": [
              "IPY_MODEL_37d14b12743641cca83c76333ada497c",
              "IPY_MODEL_70c8eca52dcc4d8a9be4c3f0594fbebc",
              "IPY_MODEL_e8f232fb566846b08e87a42302c0f389"
            ],
            "layout": "IPY_MODEL_f6541004844e4875a50f05c79b9fea05"
          }
        },
        "37d14b12743641cca83c76333ada497c": {
          "model_module": "@jupyter-widgets/controls",
          "model_name": "HTMLModel",
          "model_module_version": "1.5.0",
          "state": {
            "_dom_classes": [],
            "_model_module": "@jupyter-widgets/controls",
            "_model_module_version": "1.5.0",
            "_model_name": "HTMLModel",
            "_view_count": null,
            "_view_module": "@jupyter-widgets/controls",
            "_view_module_version": "1.5.0",
            "_view_name": "HTMLView",
            "description": "",
            "description_tooltip": null,
            "layout": "IPY_MODEL_0e3f11e3e90f4a499702de7f82e60de1",
            "placeholder": "​",
            "style": "IPY_MODEL_b9d54f9094e24795bfdc51b9b0ff9282",
            "value": "Downloading model.safetensors: 100%"
          }
        },
        "70c8eca52dcc4d8a9be4c3f0594fbebc": {
          "model_module": "@jupyter-widgets/controls",
          "model_name": "FloatProgressModel",
          "model_module_version": "1.5.0",
          "state": {
            "_dom_classes": [],
            "_model_module": "@jupyter-widgets/controls",
            "_model_module_version": "1.5.0",
            "_model_name": "FloatProgressModel",
            "_view_count": null,
            "_view_module": "@jupyter-widgets/controls",
            "_view_module_version": "1.5.0",
            "_view_name": "ProgressView",
            "bar_style": "success",
            "description": "",
            "description_tooltip": null,
            "layout": "IPY_MODEL_5b67bdf51dbe4e0eacea02ff8f7fd7a2",
            "max": 714290682,
            "min": 0,
            "orientation": "horizontal",
            "style": "IPY_MODEL_8169aa0aa2944bbb83c8a13e93859565",
            "value": 714290682
          }
        },
        "e8f232fb566846b08e87a42302c0f389": {
          "model_module": "@jupyter-widgets/controls",
          "model_name": "HTMLModel",
          "model_module_version": "1.5.0",
          "state": {
            "_dom_classes": [],
            "_model_module": "@jupyter-widgets/controls",
            "_model_module_version": "1.5.0",
            "_model_name": "HTMLModel",
            "_view_count": null,
            "_view_module": "@jupyter-widgets/controls",
            "_view_module_version": "1.5.0",
            "_view_name": "HTMLView",
            "description": "",
            "description_tooltip": null,
            "layout": "IPY_MODEL_2d52d4ecc66440d3bd91090a21f49baf",
            "placeholder": "​",
            "style": "IPY_MODEL_f498113d49874b70ac7874437f244f57",
            "value": " 714M/714M [00:02&lt;00:00, 249MB/s]"
          }
        },
        "f6541004844e4875a50f05c79b9fea05": {
          "model_module": "@jupyter-widgets/base",
          "model_name": "LayoutModel",
          "model_module_version": "1.2.0",
          "state": {
            "_model_module": "@jupyter-widgets/base",
            "_model_module_version": "1.2.0",
            "_model_name": "LayoutModel",
            "_view_count": null,
            "_view_module": "@jupyter-widgets/base",
            "_view_module_version": "1.2.0",
            "_view_name": "LayoutView",
            "align_content": null,
            "align_items": null,
            "align_self": null,
            "border": null,
            "bottom": null,
            "display": null,
            "flex": null,
            "flex_flow": null,
            "grid_area": null,
            "grid_auto_columns": null,
            "grid_auto_flow": null,
            "grid_auto_rows": null,
            "grid_column": null,
            "grid_gap": null,
            "grid_row": null,
            "grid_template_areas": null,
            "grid_template_columns": null,
            "grid_template_rows": null,
            "height": null,
            "justify_content": null,
            "justify_items": null,
            "left": null,
            "margin": null,
            "max_height": null,
            "max_width": null,
            "min_height": null,
            "min_width": null,
            "object_fit": null,
            "object_position": null,
            "order": null,
            "overflow": null,
            "overflow_x": null,
            "overflow_y": null,
            "padding": null,
            "right": null,
            "top": null,
            "visibility": null,
            "width": null
          }
        },
        "0e3f11e3e90f4a499702de7f82e60de1": {
          "model_module": "@jupyter-widgets/base",
          "model_name": "LayoutModel",
          "model_module_version": "1.2.0",
          "state": {
            "_model_module": "@jupyter-widgets/base",
            "_model_module_version": "1.2.0",
            "_model_name": "LayoutModel",
            "_view_count": null,
            "_view_module": "@jupyter-widgets/base",
            "_view_module_version": "1.2.0",
            "_view_name": "LayoutView",
            "align_content": null,
            "align_items": null,
            "align_self": null,
            "border": null,
            "bottom": null,
            "display": null,
            "flex": null,
            "flex_flow": null,
            "grid_area": null,
            "grid_auto_columns": null,
            "grid_auto_flow": null,
            "grid_auto_rows": null,
            "grid_column": null,
            "grid_gap": null,
            "grid_row": null,
            "grid_template_areas": null,
            "grid_template_columns": null,
            "grid_template_rows": null,
            "height": null,
            "justify_content": null,
            "justify_items": null,
            "left": null,
            "margin": null,
            "max_height": null,
            "max_width": null,
            "min_height": null,
            "min_width": null,
            "object_fit": null,
            "object_position": null,
            "order": null,
            "overflow": null,
            "overflow_x": null,
            "overflow_y": null,
            "padding": null,
            "right": null,
            "top": null,
            "visibility": null,
            "width": null
          }
        },
        "b9d54f9094e24795bfdc51b9b0ff9282": {
          "model_module": "@jupyter-widgets/controls",
          "model_name": "DescriptionStyleModel",
          "model_module_version": "1.5.0",
          "state": {
            "_model_module": "@jupyter-widgets/controls",
            "_model_module_version": "1.5.0",
            "_model_name": "DescriptionStyleModel",
            "_view_count": null,
            "_view_module": "@jupyter-widgets/base",
            "_view_module_version": "1.2.0",
            "_view_name": "StyleView",
            "description_width": ""
          }
        },
        "5b67bdf51dbe4e0eacea02ff8f7fd7a2": {
          "model_module": "@jupyter-widgets/base",
          "model_name": "LayoutModel",
          "model_module_version": "1.2.0",
          "state": {
            "_model_module": "@jupyter-widgets/base",
            "_model_module_version": "1.2.0",
            "_model_name": "LayoutModel",
            "_view_count": null,
            "_view_module": "@jupyter-widgets/base",
            "_view_module_version": "1.2.0",
            "_view_name": "LayoutView",
            "align_content": null,
            "align_items": null,
            "align_self": null,
            "border": null,
            "bottom": null,
            "display": null,
            "flex": null,
            "flex_flow": null,
            "grid_area": null,
            "grid_auto_columns": null,
            "grid_auto_flow": null,
            "grid_auto_rows": null,
            "grid_column": null,
            "grid_gap": null,
            "grid_row": null,
            "grid_template_areas": null,
            "grid_template_columns": null,
            "grid_template_rows": null,
            "height": null,
            "justify_content": null,
            "justify_items": null,
            "left": null,
            "margin": null,
            "max_height": null,
            "max_width": null,
            "min_height": null,
            "min_width": null,
            "object_fit": null,
            "object_position": null,
            "order": null,
            "overflow": null,
            "overflow_x": null,
            "overflow_y": null,
            "padding": null,
            "right": null,
            "top": null,
            "visibility": null,
            "width": null
          }
        },
        "8169aa0aa2944bbb83c8a13e93859565": {
          "model_module": "@jupyter-widgets/controls",
          "model_name": "ProgressStyleModel",
          "model_module_version": "1.5.0",
          "state": {
            "_model_module": "@jupyter-widgets/controls",
            "_model_module_version": "1.5.0",
            "_model_name": "ProgressStyleModel",
            "_view_count": null,
            "_view_module": "@jupyter-widgets/base",
            "_view_module_version": "1.2.0",
            "_view_name": "StyleView",
            "bar_color": null,
            "description_width": ""
          }
        },
        "2d52d4ecc66440d3bd91090a21f49baf": {
          "model_module": "@jupyter-widgets/base",
          "model_name": "LayoutModel",
          "model_module_version": "1.2.0",
          "state": {
            "_model_module": "@jupyter-widgets/base",
            "_model_module_version": "1.2.0",
            "_model_name": "LayoutModel",
            "_view_count": null,
            "_view_module": "@jupyter-widgets/base",
            "_view_module_version": "1.2.0",
            "_view_name": "LayoutView",
            "align_content": null,
            "align_items": null,
            "align_self": null,
            "border": null,
            "bottom": null,
            "display": null,
            "flex": null,
            "flex_flow": null,
            "grid_area": null,
            "grid_auto_columns": null,
            "grid_auto_flow": null,
            "grid_auto_rows": null,
            "grid_column": null,
            "grid_gap": null,
            "grid_row": null,
            "grid_template_areas": null,
            "grid_template_columns": null,
            "grid_template_rows": null,
            "height": null,
            "justify_content": null,
            "justify_items": null,
            "left": null,
            "margin": null,
            "max_height": null,
            "max_width": null,
            "min_height": null,
            "min_width": null,
            "object_fit": null,
            "object_position": null,
            "order": null,
            "overflow": null,
            "overflow_x": null,
            "overflow_y": null,
            "padding": null,
            "right": null,
            "top": null,
            "visibility": null,
            "width": null
          }
        },
        "f498113d49874b70ac7874437f244f57": {
          "model_module": "@jupyter-widgets/controls",
          "model_name": "DescriptionStyleModel",
          "model_module_version": "1.5.0",
          "state": {
            "_model_module": "@jupyter-widgets/controls",
            "_model_module_version": "1.5.0",
            "_model_name": "DescriptionStyleModel",
            "_view_count": null,
            "_view_module": "@jupyter-widgets/base",
            "_view_module_version": "1.2.0",
            "_view_name": "StyleView",
            "description_width": ""
          }
        }
      }
    }
  },
  "nbformat": 4,
  "nbformat_minor": 0
}